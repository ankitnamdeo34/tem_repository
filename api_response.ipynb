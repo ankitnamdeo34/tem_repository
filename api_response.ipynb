{
 "cells": [
  {
   "cell_type": "code",
   "execution_count": 1,
   "metadata": {},
   "outputs": [],
   "source": [
    "import requests \n",
    "import json"
   ]
  },
  {
   "cell_type": "code",
   "execution_count": 2,
   "metadata": {},
   "outputs": [],
   "source": [
    "import pprint\n",
    "import pandas as pd"
   ]
  },
  {
   "cell_type": "code",
   "execution_count": 3,
   "metadata": {},
   "outputs": [],
   "source": [
    "API_ENDPOINT  = \"https://yff7hxzhi2.execute-api.ap-south-1.amazonaws.com/Prod/\"\n",
    "headers = {'Content-type': 'application/json', 'Accept': 'text/plain'}"
   ]
  },
  {
   "cell_type": "code",
   "execution_count": 4,
   "metadata": {},
   "outputs": [],
   "source": [
    "# # defining a params dict for the parameters to be sent to the API \n",
    "# data = {'email':'escalation','subject': 'request'} \n",
    "# json_data = json.dumps(\"{'email':'escalation','subject': 'request'} \")\n",
    "# # data to be sent to api \n",
    "# # data = {'api_dev_key':API_KEY, \n",
    "# #         'api_option':'paste', \n",
    "# #         'api_paste_code':source_code, \n",
    "# #         'api_paste_format':'python'} \n",
    "  \n",
    "# # sending get request and saving the response as response object \n",
    "# res = requests.post(url = API_ENDPOINT, json = data, headers = headers).json() "
   ]
  },
  {
   "cell_type": "code",
   "execution_count": 5,
   "metadata": {},
   "outputs": [],
   "source": [
    "test5 = \"\\nRespected Sir/Madam,\\nI would like to draw your kind attention towards the malpractices and  customer mishandling  going on at AXIS Bank Katwa Branch  UTIB0000320  with full knowledge of the Bank Official.\\nOn the last week of March 2019, my Father-in-Law Mr Swapan Kumar Ghosh holding\\nAccount Number: 903010044558545  approached the Bank Manager on the request of Opening a Tax Saving Fixed Deposit of Rs. 1,50,000/-.\\nThe Bank Manager forwarded him to an Agent for doing so who is not an Bank Employee , I suppose.\\nThe Agent was probably from Max Life Insurance,  this agent then Visited my home and tried to brainwash my father, and successfully created a Life Insurance Policy of Max Life Insurance of Rs 1,50,000/ but not on the PAN of Mr Swapan Kr Ghosh, but on the PAN of his son Mr. Ashutosh Ghosh  since he is young in age and he will get better commissions  ,\\nHe got signed all the copies on the pretext that Mr Ashutosh Ghosh will be nominee but did all sorts of games.\\n\\n15 days later when the policy copy came, we realized what he has done.\\n\\nNow the actual purpose of Mr Swapan Kr Ghosh  tax saving  complete failed and hence he will have to pay additional tax, over and above he has now been given a burden to pay Rs 1,50,000 every year now.\\n\\nIs Axis Bank an agent of Max Life Insurance? Why is this kind of handling done with customer who are not highly financially educated.\\n\\nPlease look into the issue with urgency, we are really worried about Axis Bank Now, and we have no further faith in your services.\\n\\n\""
   ]
  },
  {
   "cell_type": "code",
   "execution_count": 42,
   "metadata": {},
   "outputs": [],
   "source": [
    "# defining a params dict for the parameters to be sent to the API \n",
    "data = {'email':'escalation','subject': 'sample subject'} \n",
    "data['email'] = test5"
   ]
  },
  {
   "cell_type": "code",
   "execution_count": 20,
   "metadata": {},
   "outputs": [],
   "source": [
    "res = requests.post(url = API_ENDPOINT, json = data, headers = headers).json() "
   ]
  },
  {
   "cell_type": "code",
   "execution_count": 23,
   "metadata": {},
   "outputs": [],
   "source": [
    "# pp = pprint.PrettyPrinter(indent=4)\n",
    "# pp.pprint(res)"
   ]
  },
  {
   "cell_type": "code",
   "execution_count": 47,
   "metadata": {},
   "outputs": [],
   "source": [
    "# print(json.dumps(res, indent =4))"
   ]
  },
  {
   "cell_type": "code",
   "execution_count": 27,
   "metadata": {},
   "outputs": [],
   "source": [
    "data_frame = pd.DataFrame(data = {'email':[], 'sentence':[], 'intent':[], 'confidence':[]})"
   ]
  },
  {
   "cell_type": "code",
   "execution_count": 33,
   "metadata": {},
   "outputs": [],
   "source": [
    "email = []\n",
    "sentence = []\n",
    "intent = []\n",
    "confidence = []"
   ]
  },
  {
   "cell_type": "code",
   "execution_count": 34,
   "metadata": {},
   "outputs": [],
   "source": [
    "for key in res['intent_response_exerpts']:\n",
    "    email.append(data['email'])\n",
    "    sentence.append(key)\n",
    "    intent.append(res['intent_response_exerpts'][key][0])\n",
    "    confidence.append(res['intent_response_exerpts'][key][1])"
   ]
  },
  {
   "cell_type": "code",
   "execution_count": 44,
   "metadata": {},
   "outputs": [],
   "source": [
    "data_frame = data_frame.append(pd.DataFrame(data = {'email':email, 'sentence':sentence, 'intent':intent, 'confidence':confidence}))"
   ]
  },
  {
   "cell_type": "code",
   "execution_count": 48,
   "metadata": {},
   "outputs": [],
   "source": [
    "# data_frame"
   ]
  },
  {
   "cell_type": "code",
   "execution_count": 1,
   "metadata": {},
   "outputs": [
    {
     "name": "stdout",
     "output_type": "stream",
     "text": [
      "<class 'Exception'>\n",
      "('spam', 'eggs')\n",
      "('spam', 'eggs')\n"
     ]
    }
   ],
   "source": [
    "try:\n",
    "    raise Exception('spam', 'eggs')\n",
    "except Exception as inst:\n",
    "    print(type(inst))    # the exception instance\n",
    "    print(inst.args)     # arguments stored in .args\n",
    "    print(inst)    "
   ]
  }
 ],
 "metadata": {
  "kernelspec": {
   "display_name": "Python 3",
   "language": "python",
   "name": "python3"
  },
  "language_info": {
   "codemirror_mode": {
    "name": "ipython",
    "version": 3
   },
   "file_extension": ".py",
   "mimetype": "text/x-python",
   "name": "python",
   "nbconvert_exporter": "python",
   "pygments_lexer": "ipython3",
   "version": "3.7.3"
  }
 },
 "nbformat": 4,
 "nbformat_minor": 2
}
