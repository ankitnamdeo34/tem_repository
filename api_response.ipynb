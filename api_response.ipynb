{
 "cells": [
  {
   "cell_type": "code",
   "execution_count": 1,
   "metadata": {},
   "outputs": [],
   "source": [
    "import requests \n",
    "import json"
   ]
  },
  {
   "cell_type": "code",
   "execution_count": 2,
   "metadata": {},
   "outputs": [],
   "source": [
    "import pprint\n",
    "import pandas as pd"
   ]
  },
  {
   "cell_type": "code",
   "execution_count": 3,
   "metadata": {},
   "outputs": [],
   "source": [
    "API_ENDPOINT  = \"https://yff7hxzhi2.execute-api.ap-south-1.amazonaws.com/Prod/\"\n",
    "headers = {'Content-type': 'application/json', 'Accept': 'text/plain'}"
   ]
  },
  {
   "cell_type": "code",
   "execution_count": 4,
   "metadata": {},
   "outputs": [],
   "source": [
    "# # defining a params dict for the parameters to be sent to the API \n",
    "# data = {'email':'escalation','subject': 'request'} \n",
    "# json_data = json.dumps(\"{'email':'escalation','subject': 'request'} \")\n",
    "# # data to be sent to api \n",
    "# # data = {'api_dev_key':API_KEY, \n",
    "# #         'api_option':'paste', \n",
    "# #         'api_paste_code':source_code, \n",
    "# #         'api_paste_format':'python'} \n",
    "  \n",
    "# # sending get request and saving the response as response object \n",
    "# res = requests.post(url = API_ENDPOINT, json = data, headers = headers).json() "
   ]
  },
  {
   "cell_type": "code",
   "execution_count": 5,
   "metadata": {},
   "outputs": [],
   "source": [
    "test5 = \"\\nRespected Sir/Madam,\\nI would like to draw your kind attention towards the malpractices and  customer mishandling  going on at AXIS Bank Katwa Branch  UTIB0000320  with full knowledge of the Bank Official.\\nOn the last week of March 2019, my Father-in-Law Mr Swapan Kumar Ghosh holding\\nAccount Number: 903010044558545  approached the Bank Manager on the request of Opening a Tax Saving Fixed Deposit of Rs. 1,50,000/-.\\nThe Bank Manager forwarded him to an Agent for doing so who is not an Bank Employee , I suppose.\\nThe Agent was probably from Max Life Insurance,  this agent then Visited my home and tried to brainwash my father, and successfully created a Life Insurance Policy of Max Life Insurance of Rs 1,50,000/ but not on the PAN of Mr Swapan Kr Ghosh, but on the PAN of his son Mr. Ashutosh Ghosh  since he is young in age and he will get better commissions  ,\\nHe got signed all the copies on the pretext that Mr Ashutosh Ghosh will be nominee but did all sorts of games.\\n\\n15 days later when the policy copy came, we realized what he has done.\\n\\nNow the actual purpose of Mr Swapan Kr Ghosh  tax saving  complete failed and hence he will have to pay additional tax, over and above he has now been given a burden to pay Rs 1,50,000 every year now.\\n\\nIs Axis Bank an agent of Max Life Insurance? Why is this kind of handling done with customer who are not highly financially educated.\\n\\nPlease look into the issue with urgency, we are really worried about Axis Bank Now, and we have no further faith in your services.\\n\\n\""
   ]
  },
  {
   "cell_type": "code",
   "execution_count": 42,
   "metadata": {},
   "outputs": [],
   "source": [
    "# defining a params dict for the parameters to be sent to the API \n",
    "data = {'email':'escalation','subject': 'sample subject'} \n",
    "data['email'] = test5"
   ]
  },
  {
   "cell_type": "code",
   "execution_count": 20,
   "metadata": {},
   "outputs": [],
   "source": [
    "res = requests.post(url = API_ENDPOINT, json = data, headers = headers).json() "
   ]
  },
  {
   "cell_type": "code",
   "execution_count": 23,
   "metadata": {},
   "outputs": [],
   "source": [
    "# pp = pprint.PrettyPrinter(indent=4)\n",
    "# pp.pprint(res)"
   ]
  },
  {
   "cell_type": "code",
   "execution_count": 25,
   "metadata": {},
   "outputs": [
    {
     "name": "stdout",
     "output_type": "stream",
     "text": [
      "{\n",
      "    \"intent_response_emails\": {\n",
      "        \"escalation\": 0.8234034180641174,\n",
      "        \"pos/pos_request/documentation_required_for_pos_changes/ecs_activation_process\": 0.5071295499801636,\n",
      "        \"policy/misselling_or_agent_fraud\": 0.8694208264350891,\n",
      "        \"policy/personal_update/pan\": 0.653353214263916,\n",
      "        \"cs/policy_information/policy_inquiry/credit_card_ecs_inquiry\": 0.7386629581451416,\n",
      "        \"cs/policy_pack/duplicate_policy_pack/hard_copy\": 0.6482025980949402,\n",
      "        \"ecs/debit/incorrect\": 0.63881516456604,\n",
      "        \"pos/pos_request/documentation_required_for_pos_changes/nominee_change_process\": 0.8956487774848938,\n",
      "        \"policy/phishing_or_fraud_call\": 0.5052878856658936\n",
      "    },\n",
      "    \"intent_response_exerpts\": {\n",
      "        \"please look into the issue with urgency, we are really worried about axis bank now, and we have no further faith in your services.\": [\n",
      "            \"escalation\",\n",
      "            0.8234034180641174\n",
      "        ],\n",
      "        \"account number: 903010044558545  approached the bank manager on the request of opening a tax saving fixed deposit of rs. 1,50,000/-.\": [\n",
      "            \"pos/pos_request/documentation_required_for_pos_changes/ecs_activation_process\",\n",
      "            0.5071295499801636\n",
      "        ],\n",
      "        \"now the actual purpose of mr swapan kr ghosh  tax saving  complete failed and hence he will have to pay additional tax, over and above he has now been given a burden to pay rs 1,50,000 every year now.\": [\n",
      "            \"policy/misselling_or_agent_fraud\",\n",
      "            0.8418874144554138\n",
      "        ],\n",
      "        \"the agent was probably from max life insurance,  this agent then visited my home and tried to brainwash my father, and successfully created a life insurance policy of max life insurance of rs 1,50,000/ but not on the pan of mr swapan kr ghosh, but on the \": [\n",
      "            \"policy/misselling_or_agent_fraud\",\n",
      "            0.7495778203010559\n",
      "        ],\n",
      "        \"pan of his son mr. ashutosh ghosh  since he is young in age and he will get better commissions  ,\": [\n",
      "            \"policy/personal_update/pan\",\n",
      "            0.653353214263916\n",
      "        ],\n",
      "        \"is axis bank an agent of max life insurance? why is this kind of handling done with customer who are not highly financially educated.\": [\n",
      "            \"policy/misselling_or_agent_fraud\",\n",
      "            0.7304422855377197\n",
      "        ],\n",
      "        \"the bank manager forwarded him to an agent for doing so who is not an bank employee , i suppose.\": [\n",
      "            \"policy/misselling_or_agent_fraud\",\n",
      "            0.8694208264350891\n",
      "        ],\n",
      "        \"on the last week of march 2019, my father-in-law mr swapan kumar ghosh holding\": [\n",
      "            \"cs/policy_information/policy_inquiry/credit_card_ecs_inquiry\",\n",
      "            0.7386629581451416\n",
      "        ],\n",
      "        \"15 days later when the policy copy came, we realized what he has done.\": [\n",
      "            \"cs/policy_pack/duplicate_policy_pack/hard_copy\",\n",
      "            0.6482025980949402\n",
      "        ],\n",
      "        \"i would like to draw your kind attention towards the malpractices and  customer mishandling  going on at axis bank katwa branch  utib0000320  with full knowledge of the bank official.\": [\n",
      "            \"ecs/debit/incorrect\",\n",
      "            0.63881516456604\n",
      "        ],\n",
      "        \"he got signed all the copies on the pretext that mr ashutosh ghosh will be nominee but did all sorts of games.\": [\n",
      "            \"pos/pos_request/documentation_required_for_pos_changes/nominee_change_process\",\n",
      "            0.8956487774848938\n",
      "        ],\n",
      "        \"sample subject\": [\n",
      "            \"policy/phishing_or_fraud_call\",\n",
      "            0.5052878856658936\n",
      "        ]\n",
      "    }\n",
      "}\n"
     ]
    }
   ],
   "source": [
    "print(json.dumps(res, indent =4))"
   ]
  },
  {
   "cell_type": "code",
   "execution_count": 27,
   "metadata": {},
   "outputs": [],
   "source": [
    "data_frame = pd.DataFrame(data = {'email':[], 'sentence':[], 'intent':[], 'confidence':[]})"
   ]
  },
  {
   "cell_type": "code",
   "execution_count": 33,
   "metadata": {},
   "outputs": [],
   "source": [
    "email = []\n",
    "sentence = []\n",
    "intent = []\n",
    "confidence = []"
   ]
  },
  {
   "cell_type": "code",
   "execution_count": 34,
   "metadata": {},
   "outputs": [],
   "source": [
    "for key in res['intent_response_exerpts']:\n",
    "    email.append(data['email'])\n",
    "    sentence.append(key)\n",
    "    intent.append(res['intent_response_exerpts'][key][0])\n",
    "    confidence.append(res['intent_response_exerpts'][key][1])"
   ]
  },
  {
   "cell_type": "code",
   "execution_count": 44,
   "metadata": {},
   "outputs": [],
   "source": [
    "data_frame = data_frame.append(pd.DataFrame(data = {'email':email, 'sentence':sentence, 'intent':intent, 'confidence':confidence}))"
   ]
  },
  {
   "cell_type": "code",
   "execution_count": 45,
   "metadata": {},
   "outputs": [
    {
     "data": {
      "text/html": [
       "<div>\n",
       "<style scoped>\n",
       "    .dataframe tbody tr th:only-of-type {\n",
       "        vertical-align: middle;\n",
       "    }\n",
       "\n",
       "    .dataframe tbody tr th {\n",
       "        vertical-align: top;\n",
       "    }\n",
       "\n",
       "    .dataframe thead th {\n",
       "        text-align: right;\n",
       "    }\n",
       "</style>\n",
       "<table border=\"1\" class=\"dataframe\">\n",
       "  <thead>\n",
       "    <tr style=\"text-align: right;\">\n",
       "      <th></th>\n",
       "      <th>email</th>\n",
       "      <th>sentence</th>\n",
       "      <th>intent</th>\n",
       "      <th>confidence</th>\n",
       "    </tr>\n",
       "  </thead>\n",
       "  <tbody>\n",
       "    <tr>\n",
       "      <th>0</th>\n",
       "      <td>\\nRespected Sir/Madam,\\nI would like to draw y...</td>\n",
       "      <td>please look into the issue with urgency, we ar...</td>\n",
       "      <td>escalation</td>\n",
       "      <td>0.823403</td>\n",
       "    </tr>\n",
       "    <tr>\n",
       "      <th>1</th>\n",
       "      <td>\\nRespected Sir/Madam,\\nI would like to draw y...</td>\n",
       "      <td>account number: 903010044558545  approached th...</td>\n",
       "      <td>pos/pos_request/documentation_required_for_pos...</td>\n",
       "      <td>0.507130</td>\n",
       "    </tr>\n",
       "    <tr>\n",
       "      <th>2</th>\n",
       "      <td>\\nRespected Sir/Madam,\\nI would like to draw y...</td>\n",
       "      <td>now the actual purpose of mr swapan kr ghosh  ...</td>\n",
       "      <td>policy/misselling_or_agent_fraud</td>\n",
       "      <td>0.841887</td>\n",
       "    </tr>\n",
       "    <tr>\n",
       "      <th>3</th>\n",
       "      <td>\\nRespected Sir/Madam,\\nI would like to draw y...</td>\n",
       "      <td>the agent was probably from max life insurance...</td>\n",
       "      <td>policy/misselling_or_agent_fraud</td>\n",
       "      <td>0.749578</td>\n",
       "    </tr>\n",
       "    <tr>\n",
       "      <th>4</th>\n",
       "      <td>\\nRespected Sir/Madam,\\nI would like to draw y...</td>\n",
       "      <td>pan of his son mr. ashutosh ghosh  since he is...</td>\n",
       "      <td>policy/personal_update/pan</td>\n",
       "      <td>0.653353</td>\n",
       "    </tr>\n",
       "    <tr>\n",
       "      <th>5</th>\n",
       "      <td>\\nRespected Sir/Madam,\\nI would like to draw y...</td>\n",
       "      <td>is axis bank an agent of max life insurance? w...</td>\n",
       "      <td>policy/misselling_or_agent_fraud</td>\n",
       "      <td>0.730442</td>\n",
       "    </tr>\n",
       "    <tr>\n",
       "      <th>6</th>\n",
       "      <td>\\nRespected Sir/Madam,\\nI would like to draw y...</td>\n",
       "      <td>the bank manager forwarded him to an agent for...</td>\n",
       "      <td>policy/misselling_or_agent_fraud</td>\n",
       "      <td>0.869421</td>\n",
       "    </tr>\n",
       "    <tr>\n",
       "      <th>7</th>\n",
       "      <td>\\nRespected Sir/Madam,\\nI would like to draw y...</td>\n",
       "      <td>on the last week of march 2019, my father-in-l...</td>\n",
       "      <td>cs/policy_information/policy_inquiry/credit_ca...</td>\n",
       "      <td>0.738663</td>\n",
       "    </tr>\n",
       "    <tr>\n",
       "      <th>8</th>\n",
       "      <td>\\nRespected Sir/Madam,\\nI would like to draw y...</td>\n",
       "      <td>15 days later when the policy copy came, we re...</td>\n",
       "      <td>cs/policy_pack/duplicate_policy_pack/hard_copy</td>\n",
       "      <td>0.648203</td>\n",
       "    </tr>\n",
       "    <tr>\n",
       "      <th>9</th>\n",
       "      <td>\\nRespected Sir/Madam,\\nI would like to draw y...</td>\n",
       "      <td>i would like to draw your kind attention towar...</td>\n",
       "      <td>ecs/debit/incorrect</td>\n",
       "      <td>0.638815</td>\n",
       "    </tr>\n",
       "    <tr>\n",
       "      <th>10</th>\n",
       "      <td>\\nRespected Sir/Madam,\\nI would like to draw y...</td>\n",
       "      <td>he got signed all the copies on the pretext th...</td>\n",
       "      <td>pos/pos_request/documentation_required_for_pos...</td>\n",
       "      <td>0.895649</td>\n",
       "    </tr>\n",
       "    <tr>\n",
       "      <th>11</th>\n",
       "      <td>\\nRespected Sir/Madam,\\nI would like to draw y...</td>\n",
       "      <td>sample subject</td>\n",
       "      <td>policy/phishing_or_fraud_call</td>\n",
       "      <td>0.505288</td>\n",
       "    </tr>\n",
       "  </tbody>\n",
       "</table>\n",
       "</div>"
      ],
      "text/plain": [
       "                                                email  \\\n",
       "0   \\nRespected Sir/Madam,\\nI would like to draw y...   \n",
       "1   \\nRespected Sir/Madam,\\nI would like to draw y...   \n",
       "2   \\nRespected Sir/Madam,\\nI would like to draw y...   \n",
       "3   \\nRespected Sir/Madam,\\nI would like to draw y...   \n",
       "4   \\nRespected Sir/Madam,\\nI would like to draw y...   \n",
       "5   \\nRespected Sir/Madam,\\nI would like to draw y...   \n",
       "6   \\nRespected Sir/Madam,\\nI would like to draw y...   \n",
       "7   \\nRespected Sir/Madam,\\nI would like to draw y...   \n",
       "8   \\nRespected Sir/Madam,\\nI would like to draw y...   \n",
       "9   \\nRespected Sir/Madam,\\nI would like to draw y...   \n",
       "10  \\nRespected Sir/Madam,\\nI would like to draw y...   \n",
       "11  \\nRespected Sir/Madam,\\nI would like to draw y...   \n",
       "\n",
       "                                             sentence  \\\n",
       "0   please look into the issue with urgency, we ar...   \n",
       "1   account number: 903010044558545  approached th...   \n",
       "2   now the actual purpose of mr swapan kr ghosh  ...   \n",
       "3   the agent was probably from max life insurance...   \n",
       "4   pan of his son mr. ashutosh ghosh  since he is...   \n",
       "5   is axis bank an agent of max life insurance? w...   \n",
       "6   the bank manager forwarded him to an agent for...   \n",
       "7   on the last week of march 2019, my father-in-l...   \n",
       "8   15 days later when the policy copy came, we re...   \n",
       "9   i would like to draw your kind attention towar...   \n",
       "10  he got signed all the copies on the pretext th...   \n",
       "11                                     sample subject   \n",
       "\n",
       "                                               intent  confidence  \n",
       "0                                          escalation    0.823403  \n",
       "1   pos/pos_request/documentation_required_for_pos...    0.507130  \n",
       "2                    policy/misselling_or_agent_fraud    0.841887  \n",
       "3                    policy/misselling_or_agent_fraud    0.749578  \n",
       "4                          policy/personal_update/pan    0.653353  \n",
       "5                    policy/misselling_or_agent_fraud    0.730442  \n",
       "6                    policy/misselling_or_agent_fraud    0.869421  \n",
       "7   cs/policy_information/policy_inquiry/credit_ca...    0.738663  \n",
       "8      cs/policy_pack/duplicate_policy_pack/hard_copy    0.648203  \n",
       "9                                 ecs/debit/incorrect    0.638815  \n",
       "10  pos/pos_request/documentation_required_for_pos...    0.895649  \n",
       "11                      policy/phishing_or_fraud_call    0.505288  "
      ]
     },
     "execution_count": 45,
     "metadata": {},
     "output_type": "execute_result"
    }
   ],
   "source": [
    "data_frame"
   ]
  },
  {
   "cell_type": "code",
   "execution_count": 1,
   "metadata": {},
   "outputs": [
    {
     "name": "stdout",
     "output_type": "stream",
     "text": [
      "<class 'Exception'>\n",
      "('spam', 'eggs')\n",
      "('spam', 'eggs')\n"
     ]
    }
   ],
   "source": [
    "try:\n",
    "    raise Exception('spam', 'eggs')\n",
    "except Exception as inst:\n",
    "    print(type(inst))    # the exception instance\n",
    "    print(inst.args)     # arguments stored in .args\n",
    "    print(inst)    "
   ]
  }
 ],
 "metadata": {
  "kernelspec": {
   "display_name": "Python 3",
   "language": "python",
   "name": "python3"
  },
  "language_info": {
   "codemirror_mode": {
    "name": "ipython",
    "version": 3
   },
   "file_extension": ".py",
   "mimetype": "text/x-python",
   "name": "python",
   "nbconvert_exporter": "python",
   "pygments_lexer": "ipython3",
   "version": "3.7.3"
  }
 },
 "nbformat": 4,
 "nbformat_minor": 2
}
